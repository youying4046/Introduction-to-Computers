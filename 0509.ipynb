{
  "nbformat": 4,
  "nbformat_minor": 0,
  "metadata": {
    "colab": {
      "name": "0509.ipynb",
      "provenance": [],
      "collapsed_sections": [],
      "authorship_tag": "ABX9TyOLXAsrJSawpcM1H4vHY5JB",
      "include_colab_link": true
    },
    "kernelspec": {
      "name": "python3",
      "display_name": "Python 3"
    },
    "language_info": {
      "name": "python"
    }
  },
  "cells": [
    {
      "cell_type": "markdown",
      "metadata": {
        "id": "view-in-github",
        "colab_type": "text"
      },
      "source": [
        "<a href=\"https://colab.research.google.com/github/youying4046/Introduction-to-Computers/blob/main/0509.ipynb\" target=\"_parent\"><img src=\"https://colab.research.google.com/assets/colab-badge.svg\" alt=\"Open In Colab\"/></a>"
      ]
    },
    {
      "cell_type": "code",
      "execution_count": null,
      "metadata": {
        "id": "Z_yepc34y8UR",
        "colab": {
          "base_uri": "https://localhost:8080/"
        },
        "outputId": "a126629f-256a-4743-a5ad-2ef029fdeb47"
      },
      "outputs": [
        {
          "output_type": "stream",
          "name": "stdout",
          "text": [
            "請輸入你的體溫33\n",
            "體溫異常，請重新量測!\n"
          ]
        }
      ],
      "source": [
        "temp=float(input('請輸入你的體溫'))\n",
        "if temp>=37.5:\n",
        "  print('體溫過高')\n",
        "elif temp>=37 and temp<37.4:\n",
        "  print('體溫略高')\n",
        "elif temp>=34 and temp<=36.9:\n",
        "  print('體溫正常')\n",
        "else:\n",
        "  print('體溫異常，請重新量測!')"
      ]
    },
    {
      "cell_type": "code",
      "source": [
        "score=input('請輸入成績')\n",
        "if (int(score) >= 90):\n",
        "  print('A')\n",
        "elif (int(score) >= 80):\n",
        "  print('B')\n",
        "elif (int(score) >= 70):\n",
        "  print('C')\n",
        "elif (int(score) >= 60):\n",
        "  print('D')\n",
        "else:\n",
        "  print('E')"
      ],
      "metadata": {
        "colab": {
          "base_uri": "https://localhost:8080/"
        },
        "id": "1qX8QUnQ6QNT",
        "outputId": "4e3862c8-9c42-4117-ebc8-27f50947f161"
      },
      "execution_count": null,
      "outputs": [
        {
          "output_type": "stream",
          "name": "stdout",
          "text": [
            "請輸入成績50\n",
            "E\n"
          ]
        }
      ]
    },
    {
      "cell_type": "code",
      "source": [
        "money=int(input('請輸入金額:'))\n",
        "if(money>=10000):\n",
        "  if(money>=100000):\n",
        "    print('八折',money*0.8,end='元\\n')\n",
        "  elif(money>=50000):\n",
        "    print('八五折',money*0.85,end='元\\n')\n",
        "  elif(money>=30000):\n",
        "    print('九折',money*0.9,end='元\\n')\n",
        "  else:\n",
        "    print('九五折',money*0.95,end='元\\n')\n",
        "else:\n",
        "  print('沒打折',money,end='元\\n')"
      ],
      "metadata": {
        "colab": {
          "base_uri": "https://localhost:8080/"
        },
        "id": "4PN59oG07GKa",
        "outputId": "1680a21e-8213-4537-965f-14b1cfa4ff89"
      },
      "execution_count": null,
      "outputs": [
        {
          "output_type": "stream",
          "name": "stdout",
          "text": [
            "請輸入金額:50000\n",
            "八五折 42500.0元\n"
          ]
        }
      ]
    },
    {
      "cell_type": "code",
      "source": [
        "month=int(input('請輸入月份'))\n",
        "if (month>=3 and month<=5):\n",
        "  print(month,'月是春天')\n",
        "elif (month>=6 and month<=8):\n",
        "  print(month,'月是夏天')\n",
        "elif (month>=9 and month<=11):\n",
        "  print(month,'月是秋天')\n",
        "elif (month>=1 and month<=12):\n",
        "  print(month,'月是冬天')\n",
        "else:\n",
        "  print('月份不在範圍內')"
      ],
      "metadata": {
        "colab": {
          "base_uri": "https://localhost:8080/"
        },
        "id": "7jKOtWUv823A",
        "outputId": "76b578aa-5985-4312-f668-8e936c9fddc7"
      },
      "execution_count": null,
      "outputs": [
        {
          "output_type": "stream",
          "name": "stdout",
          "text": [
            "請輸入月份13\n",
            "月份不在範圍內\n"
          ]
        }
      ]
    },
    {
      "cell_type": "code",
      "source": [
        "rev=int(input('請輸入今年收入淨額:'))\n",
        "if(rev>=300000):\n",
        "  if(rev>=2000000):\n",
        "    print('付稅金額:',rev*0.3,end='元\\n')\n",
        "  elif(rev>=1000000):\n",
        "    print('付稅金額:',rev*0.21,end='元\\n')\n",
        "  elif(rev>=600000):\n",
        "    print('付稅金額:',rev*0.13,end='元\\n')\n",
        "  else:\n",
        "    print('付稅金額:',rev*0.06,end='元\\n')\n",
        "else:\n",
        "  print('付稅金額:',rev*0,end='元\\n')"
      ],
      "metadata": {
        "id": "8oDTm-5_CqHr",
        "colab": {
          "base_uri": "https://localhost:8080/"
        },
        "outputId": "dccfeaa1-1210-46f3-9ca0-1af1d1d0f7c0"
      },
      "execution_count": 8,
      "outputs": [
        {
          "output_type": "stream",
          "name": "stdout",
          "text": [
            "請輸入今年收入淨額:100000\n",
            "付稅金額: 0元\n"
          ]
        }
      ]
    }
  ]
}